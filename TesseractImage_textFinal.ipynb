{
 "cells": [
  {
   "cell_type": "code",
   "execution_count": 1,
   "id": "845626fd-b67f-4c31-bbe4-aa2d3267267d",
   "metadata": {},
   "outputs": [],
   "source": [
    "import cv2 as cv\n",
    "import matplotlib.pyplot as plt\n",
    "import pytesseract\n",
    "\n",
    "def imeg_input(image_path):\n",
    "    img=cv.imread('0002.jpg')\n",
    "    # removing the noise from the image upto 2 level\n",
    "    dst = cv.fastNlMeansDenoisingColored(img,None,10,10,7,21)\n",
    "    dst1=cv.fastNlMeansDenoisingColored(dst,None,10,10,7,21)\n",
    "    \n",
    "    return dst1\n",
    "def loding_the_ocr(dst1):\n",
    "    # pytesseract path\n",
    "    pytesseract.pytesseract.tesseract_cmd = 'C:/Program Files/Tesseract-OCR/tesseract.exe'\n",
    "    text = pytesseract.image_to_string(dst1)\n",
    "    \n",
    "    return(text)\n",
    "    \n",
    "\n"
   ]
  },
  {
   "cell_type": "code",
   "execution_count": null,
   "id": "9f6ecb17-7f3d-4769-b15b-110f94066223",
   "metadata": {},
   "outputs": [],
   "source": []
  }
 ],
 "metadata": {
  "kernelspec": {
   "display_name": "Python 3",
   "language": "python",
   "name": "python3"
  },
  "language_info": {
   "codemirror_mode": {
    "name": "ipython",
    "version": 3
   },
   "file_extension": ".py",
   "mimetype": "text/x-python",
   "name": "python",
   "nbconvert_exporter": "python",
   "pygments_lexer": "ipython3",
   "version": "3.8.8"
  }
 },
 "nbformat": 4,
 "nbformat_minor": 5
}
